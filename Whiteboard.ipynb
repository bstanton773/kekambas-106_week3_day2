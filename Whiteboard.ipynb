{
 "cells": [
  {
   "cell_type": "code",
   "execution_count": 1,
   "metadata": {},
   "outputs": [],
   "source": [
    "# Find Bold Words In String\n",
    "# Given a string as a parameter to a function, find all of the words inside the string that should be bolded. \n",
    "# A bolded word starts with any of the regular vowels in the alphabet. Return the words that should be bolded in \n",
    "# a list/array\n",
    "# Example:\n",
    "# Input: The Black Dog sits among the apple tree\n",
    "# Output: [ 'among', 'apple']\n",
    "# Input: The Umbrella Company strikes again\n",
    "# Output: [ 'Umbrella', 'again']"
   ]
  },
  {
   "cell_type": "code",
   "execution_count": 5,
   "metadata": {},
   "outputs": [
    {
     "name": "stdout",
     "output_type": "stream",
     "text": [
      "['among', 'apple']\n",
      "['Umbrella', 'again']\n"
     ]
    }
   ],
   "source": [
    "def get_bold_words(sentence):\n",
    "    bold_words = []\n",
    "    vowels = {'a', 'e', 'i', 'o', 'u'}\n",
    "    for word in sentence.split():\n",
    "        if word[0].lower() in vowels:\n",
    "            bold_words.append(word)\n",
    "    return bold_words\n",
    "\n",
    "print(get_bold_words('The Black Dog sits among the apple tree'))\n",
    "print(get_bold_words('The Umbrella Company strikes again'))"
   ]
  },
  {
   "cell_type": "code",
   "execution_count": null,
   "metadata": {},
   "outputs": [],
   "source": []
  }
 ],
 "metadata": {
  "kernelspec": {
   "display_name": "Python 3",
   "language": "python",
   "name": "python3"
  },
  "language_info": {
   "codemirror_mode": {
    "name": "ipython",
    "version": 3
   },
   "file_extension": ".py",
   "mimetype": "text/x-python",
   "name": "python",
   "nbconvert_exporter": "python",
   "pygments_lexer": "ipython3",
   "version": "3.8.5"
  }
 },
 "nbformat": 4,
 "nbformat_minor": 4
}
