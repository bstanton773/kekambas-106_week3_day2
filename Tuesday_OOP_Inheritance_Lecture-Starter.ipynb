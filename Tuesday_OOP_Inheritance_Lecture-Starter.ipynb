{
 "cells": [
  {
   "cell_type": "markdown",
   "metadata": {},
   "source": [
    "# Object-Oriented-Programming Inheritance and Importing Modules"
   ]
  },
  {
   "cell_type": "markdown",
   "metadata": {},
   "source": [
    "## Tasks Today:\n",
    "\n",
    "   \n",
    "1) <b>Dunder Methods</b> <br>\n",
    " &nbsp;&nbsp;&nbsp;&nbsp; a) The \\__str\\__() Methodo <br>\n",
    " &nbsp;&nbsp;&nbsp;&nbsp; b) The \\__repr\\__() Method <br>\n",
    " &nbsp;&nbsp;&nbsp;&nbsp; c) Other Magic Methods <br>\n",
    " &nbsp;&nbsp;&nbsp;&nbsp; d) In-Class Exercise #1 - Create a class Animal that displays the species and animal name when printed <br>  \n",
    "2) <b>Inheritance</b> <br>\n",
    " &nbsp;&nbsp;&nbsp;&nbsp; a) Syntax for Inheriting from a Parent Class <br>\n",
    " &nbsp;&nbsp;&nbsp;&nbsp; b) The \\__init\\__() Method for a Child Class (super()) <br>\n",
    " &nbsp;&nbsp;&nbsp;&nbsp; c) Defining Attributes and Methods for the Child Class <br>\n",
    " &nbsp;&nbsp;&nbsp;&nbsp; d) Method Overriding <br>\n",
    " &nbsp;&nbsp;&nbsp;&nbsp; e) In-Class Exercise #2 - Create a class 'Ford' that inherits from 'Car' class and initialize it as a Blue Ford Explorer with 4 wheels using the super() method <br>\n",
    "3) <b>Modules</b> <br>\n",
    " &nbsp;&nbsp;&nbsp;&nbsp; a) Importing Modules<br>\n",
    " &nbsp;&nbsp;&nbsp;&nbsp; b) Importing from modules <br>\n",
    " &nbsp;&nbsp;&nbsp;&nbsp; c) Aliasing <br>\n",
    " &nbsp;&nbsp;&nbsp;&nbsp; d) Creating Modules <br>\n",
    "4) <b>Exercises</b> <br>\n",
    " &nbsp;&nbsp;&nbsp;&nbsp; a) Exercise #1 - Sales and Development Employees Inheritance <br>\n",
    " &nbsp;&nbsp;&nbsp;&nbsp; b) Exercise #2 - Geomerty Module"
   ]
  },
  {
   "cell_type": "markdown",
   "metadata": {},
   "source": [
    "### Warm Up"
   ]
  },
  {
   "cell_type": "markdown",
   "metadata": {},
   "source": [
    "Create two classes: one for a user that includes username, email, and password. Another for posts that has a title, body, and author. The author should be an instance of user."
   ]
  },
  {
   "cell_type": "code",
   "execution_count": null,
   "metadata": {},
   "outputs": [],
   "source": [
    "class User:\n",
    "    def __init__(self, u, e, p):\n",
    "        self.username = u\n",
    "        self.email = e\n",
    "        self.password = p[::2]\n",
    "        \n",
    "    def send_email(self, body, sender_email):\n",
    "        # code to setup mail\n",
    "        to = self.email\n",
    "        sender = sender_email\n",
    "        print(f\"Dear {self.username}, {body}.\")\n",
    "        \n",
    "    def check_password(self, password_guess):\n",
    "        return self.password == password_guess[::2]\n",
    "        \n",
    "\n",
    "\n",
    "class Post:\n",
    "    def __init__(self, t, b, a):\n",
    "        self.title = t\n",
    "        self.body = b\n",
    "        self.author = a\n",
    "        print(f\"{self.title} by {self.author.username} - {self.body}\")\n",
    "\n",
    "\n",
    "\n",
    "\n",
    "u1 = User('brians', 'brians@codingtemple.com', 'abc123')\n",
    "p1 = Post('I Love Python', 'Python is a great language', u1)\n",
    "\n",
    "# print(p1.author.username)\n",
    "# print(p1.author.password)"
   ]
  },
  {
   "cell_type": "code",
   "execution_count": null,
   "metadata": {},
   "outputs": [],
   "source": [
    "print(p1)"
   ]
  },
  {
   "cell_type": "code",
   "execution_count": null,
   "metadata": {},
   "outputs": [],
   "source": []
  },
  {
   "cell_type": "code",
   "execution_count": null,
   "metadata": {},
   "outputs": [],
   "source": [
    "u1.check_password('axc426')"
   ]
  },
  {
   "cell_type": "code",
   "execution_count": null,
   "metadata": {},
   "outputs": [],
   "source": [
    "p1.author.send_email('I love your post', 'brian@gmail.com')"
   ]
  },
  {
   "cell_type": "code",
   "execution_count": null,
   "metadata": {},
   "outputs": [],
   "source": []
  },
  {
   "cell_type": "markdown",
   "metadata": {},
   "source": [
    "## Dunder Methods"
   ]
  },
  {
   "cell_type": "markdown",
   "metadata": {},
   "source": [
    "#### \\__str\\__()"
   ]
  },
  {
   "cell_type": "code",
   "execution_count": null,
   "metadata": {},
   "outputs": [],
   "source": [
    "# __str__ is the method that is invokded when you call print on your object\n",
    "\n",
    "class Car:\n",
    "    def __init__(self, color, make, model):\n",
    "        self.color = color\n",
    "        self.make = make\n",
    "        self.model = model\n",
    "        \n",
    "    def __str__(self):\n",
    "        return f\"{self.color} {self.make.title()} {self.model.title()}\"\n",
    "        \n",
    "        \n",
    "car1 = Car('blue', 'toyota', 'camry')\n",
    "car2 = Car('green', 'ford', 'focus')\n",
    "\n",
    "print(car1)\n",
    "print(car2)"
   ]
  },
  {
   "cell_type": "code",
   "execution_count": null,
   "metadata": {},
   "outputs": [],
   "source": [
    "car_as_a_string = str(car1)\n",
    "print(car_as_a_string, type(car_as_a_string))"
   ]
  },
  {
   "cell_type": "markdown",
   "metadata": {},
   "source": [
    "#### \\__repr\\__()"
   ]
  },
  {
   "cell_type": "code",
   "execution_count": null,
   "metadata": {
    "scrolled": true
   },
   "outputs": [],
   "source": [
    "# Developer Friendly Way of viewing our objects vs end-user-friend;y\n",
    "# built-in print function will use the __repr__ IF __str__ is NOT DEFINED\n",
    "\n",
    "\n",
    "class Car:\n",
    "    def __init__(self, color, make, model, car_id):\n",
    "        self.color = color\n",
    "        self.make = make\n",
    "        self.model = model\n",
    "        self.car_id = car_id\n",
    "        \n",
    "    def __str__(self):\n",
    "        return f\"{self.color} {self.make.title()} {self.model.title()}\"\n",
    "    \n",
    "    def __repr__(self):\n",
    "        return f\"<Car {self.car_id}|{self.make.title()} {self.model.title()}>\"\n",
    "        \n",
    "        \n",
    "car1 = Car('blue', 'toyota', 'camry', 1)\n",
    "car2 = Car('green', 'ford', 'focus', 2)\n",
    "\n",
    "print(car1)\n",
    "print(car2)"
   ]
  },
  {
   "cell_type": "code",
   "execution_count": null,
   "metadata": {},
   "outputs": [],
   "source": [
    "car1"
   ]
  },
  {
   "cell_type": "code",
   "execution_count": null,
   "metadata": {},
   "outputs": [],
   "source": [
    "car2"
   ]
  },
  {
   "cell_type": "code",
   "execution_count": null,
   "metadata": {},
   "outputs": [],
   "source": [
    "cars = [car1, car2]\n",
    "print(cars)"
   ]
  },
  {
   "cell_type": "code",
   "execution_count": null,
   "metadata": {},
   "outputs": [],
   "source": [
    "class User:\n",
    "    def __init__(self, u, e, p):\n",
    "        self.username = u\n",
    "        self.email = e\n",
    "        self.password = p[::2]\n",
    "        \n",
    "    def send_email(self, body, sender_email):\n",
    "        # code to setup mail\n",
    "        to = self.email\n",
    "        sender = sender_email\n",
    "        print(f\"Dear {self.username}, {body}.\")\n",
    "        \n",
    "    def check_password(self, password_guess):\n",
    "        return self.password == password_guess[::2]\n",
    "    \n",
    "    def __str__(self):\n",
    "        return self.username\n",
    "    \n",
    "    def __repr__(self):\n",
    "        return f\"<User | {self.username}>\"\n",
    "    \n",
    "    \n",
    "u2 = User('coolguy123', 'cool@guy.com', 'coolguy')"
   ]
  },
  {
   "cell_type": "code",
   "execution_count": null,
   "metadata": {},
   "outputs": [],
   "source": [
    "def main():\n",
    "    new_users = []\n",
    "    u2 = User('coolguy123', 'cool@guy.com', 'coolguy')\n",
    "    new_users.append(u2)\n",
    "    print(f\"{u2} has been created\")\n",
    "    return new_users\n",
    "    \n",
    "    \n",
    "main()"
   ]
  },
  {
   "cell_type": "markdown",
   "metadata": {},
   "source": [
    "#### \\__lt\\__(), \\__lte\\__(), \\__eq\\__(), etc"
   ]
  },
  {
   "cell_type": "code",
   "execution_count": null,
   "metadata": {
    "scrolled": true
   },
   "outputs": [],
   "source": [
    "class Item:\n",
    "    def __init__(self, name, price, quantity):\n",
    "        self.name = name\n",
    "        self.price = price\n",
    "        self.quantity = quantity\n",
    "        \n",
    "    def __str__(self):\n",
    "        return f\"{self.name}: ${self.price:.2f} x {self.quantity}\"\n",
    "    \n",
    "    def __repr__(self):\n",
    "        return f\"<Item|{self.name}>\"\n",
    "    \n",
    "    def __lt__(self, other_item):\n",
    "        return self.price * self.quantity < other_item.price * other_item.quantity\n",
    "    \n",
    "#     def __le__(self, other_item):\n",
    "#         return self.price * self.quantity == other_item.price * other_item.quantity\n",
    "    \n",
    "    def __add__(self, value_to_add):\n",
    "        self.quantity += value_to_add\n",
    "        return self\n",
    "    \n",
    "    def __sub__(self, value_to_add):\n",
    "        self.quantity -= value_to_add\n",
    "        return self\n",
    "    \n",
    "item1 = Item('Cup', 5, 10)\n",
    "print(item1)\n",
    "item2 = Item('Lamp', 50.00, 1)\n",
    "print(item2)"
   ]
  },
  {
   "cell_type": "code",
   "execution_count": null,
   "metadata": {},
   "outputs": [],
   "source": [
    "item1 > item2"
   ]
  },
  {
   "cell_type": "code",
   "execution_count": null,
   "metadata": {},
   "outputs": [],
   "source": [
    "item1 + 3"
   ]
  },
  {
   "cell_type": "code",
   "execution_count": null,
   "metadata": {},
   "outputs": [],
   "source": [
    "print(item1)"
   ]
  },
  {
   "cell_type": "code",
   "execution_count": null,
   "metadata": {},
   "outputs": [],
   "source": [
    "item1 += 10\n",
    "print(item1)"
   ]
  },
  {
   "cell_type": "code",
   "execution_count": null,
   "metadata": {},
   "outputs": [],
   "source": [
    "item1 -= 15\n",
    "print(item1)"
   ]
  },
  {
   "cell_type": "markdown",
   "metadata": {},
   "source": [
    "#### In-class Exercise 1"
   ]
  },
  {
   "cell_type": "code",
   "execution_count": null,
   "metadata": {},
   "outputs": [],
   "source": [
    "# Create a class Animal that displays the name and species when printed\n",
    "\n",
    "\n",
    "leo = Animal('Leo', 'lion')\n",
    "\n",
    "print(leo) # Leo the Lion\n",
    "\n",
    "\n",
    "buddy = Animal('Buddy', 'dog')\n",
    "print(buddy) # Buddy the Dog"
   ]
  },
  {
   "cell_type": "markdown",
   "metadata": {},
   "source": [
    "## Inheritance <br>\n",
    "<p>You can create a child-parent relationship between two classes by using inheritance. What this allows you to do is have overriding methods, but also inherit traits from the parent class. Think of it as an actual parent and child, the child will inherit the parent's genes, as will the classes in OOP</p>"
   ]
  },
  {
   "cell_type": "markdown",
   "metadata": {},
   "source": [
    "##### Syntax for Inheriting from a Parent Class"
   ]
  },
  {
   "cell_type": "code",
   "execution_count": null,
   "metadata": {
    "scrolled": true
   },
   "outputs": [],
   "source": [
    "# Syntax: class Child(Parent):\n",
    "\n",
    "class Rectangle: # Parent Class\n",
    "    sides = 4 # Class Attribute\n",
    "    \n",
    "    def __init__(self, length, width):\n",
    "        self.length = length\n",
    "        self.width = width\n",
    "        \n",
    "    def __str__(self):\n",
    "        return f\"Length: {self.length} x Width: {self.width}\"\n",
    "    \n",
    "    def area(self):\n",
    "        print('This is the Rectangle area method')\n",
    "        return self.length * self.width\n",
    "    \n",
    "    def perimeter(self):\n",
    "        return 2*self.length + 2*self.width \n",
    "    \n",
    "class Square(Rectangle):\n",
    "    def area(self):\n",
    "        print('This is the Square area method')\n",
    "        return self.length ** 2\n",
    "    \n",
    "    \n",
    "my_rectangle = Rectangle(10, 15)\n",
    "print(my_rectangle)\n",
    "print(my_rectangle.area())\n",
    "print(my_rectangle.perimeter())"
   ]
  },
  {
   "cell_type": "code",
   "execution_count": null,
   "metadata": {},
   "outputs": [],
   "source": [
    "my_square = Square(5, 5)\n",
    "print(my_square)\n",
    "print(my_square.area())\n",
    "print(my_square.perimeter())\n",
    "print(my_square.sides)"
   ]
  },
  {
   "cell_type": "code",
   "execution_count": null,
   "metadata": {},
   "outputs": [],
   "source": [
    "help(Square)"
   ]
  },
  {
   "cell_type": "markdown",
   "metadata": {},
   "source": [
    "##### The \\__init\\__() Method for a Child Class - super()"
   ]
  },
  {
   "cell_type": "code",
   "execution_count": null,
   "metadata": {
    "scrolled": true
   },
   "outputs": [],
   "source": [
    "# Syntax: class Child(Parent):\n",
    "\n",
    "class Rectangle: # Parent Class\n",
    "    sides = 4 # Class Attribute\n",
    "    \n",
    "    def __init__(self, length, width):\n",
    "        print('This is the Rectangle __init__ method')\n",
    "        self.length = length\n",
    "        self.width = width\n",
    "        \n",
    "    def __str__(self):\n",
    "        return f\"Length: {self.length} x Width: {self.width}\"\n",
    "    \n",
    "    def area(self):\n",
    "        print('This is the Rectangle area method')\n",
    "        return self.length * self.width\n",
    "    \n",
    "    def perimeter(self):\n",
    "        return 2*self.length + 2*self.width \n",
    "    \n",
    "class Square(Rectangle):\n",
    "    def __init__(self, side):\n",
    "        print('This is the Square __init__ method')\n",
    "        super().__init__(side, side)\n",
    "        self.all_sides_equal = True\n",
    "        \n",
    "    def area(self):\n",
    "        print('This is the Square area method')\n",
    "        rect_area = super().area()\n",
    "        print('from the super:', rect_area)\n",
    "        return self.length ** 2\n",
    "    \n",
    "    \n",
    "# my_rectangle = Rectangle(10, 15)\n",
    "# print(my_rectangle)\n",
    "# print(my_rectangle.area())\n",
    "# print(my_rectangle.perimeter())\n",
    "print('='* 50)\n",
    "my_square = Square(5)\n",
    "# print(my_square)\n",
    "print(my_square.area())\n",
    "# print(my_square.perimeter())"
   ]
  },
  {
   "cell_type": "code",
   "execution_count": null,
   "metadata": {},
   "outputs": [],
   "source": [
    "print(my_square.__dict__)"
   ]
  },
  {
   "cell_type": "code",
   "execution_count": null,
   "metadata": {
    "scrolled": true
   },
   "outputs": [],
   "source": [
    "class Grandparent:\n",
    "    def test(self):\n",
    "        print('This is the grandparent')\n",
    "        \n",
    "class Parent(Grandparent):\n",
    "    def test(self):\n",
    "        super().test()\n",
    "        print('This is the parent')\n",
    "        \n",
    "class Child(Parent):\n",
    "    def test(self):\n",
    "        super().test()\n",
    "        print('This is the child')\n",
    "        \n",
    "        \n",
    "        \n",
    "c = Child()\n",
    "c.test()"
   ]
  },
  {
   "cell_type": "code",
   "execution_count": null,
   "metadata": {},
   "outputs": [],
   "source": [
    "help(super)"
   ]
  },
  {
   "cell_type": "markdown",
   "metadata": {},
   "source": [
    "#### In-class Exercise 2"
   ]
  },
  {
   "cell_type": "markdown",
   "metadata": {},
   "source": [
    "Create a Car class that has a drive and fill up method, and then create a Ford class that inherits from the car class."
   ]
  },
  {
   "cell_type": "code",
   "execution_count": null,
   "metadata": {},
   "outputs": [],
   "source": [
    "class Car:\n",
    "    def __init__(self, color, make, model):\n",
    "        self.color = color\n",
    "        self.model = model\n",
    "        self.make = make\n",
    "        \n",
    "    def __str__(self):\n",
    "        return f\"{self.color} {self.make} {self.model}\"\n",
    "        \n",
    "    def drive(self):\n",
    "        print(f\"{self} is driving\")\n",
    "        \n",
    "    def fill_up(self):\n",
    "        print(f\"Filling up {self}\")\n",
    "        \n",
    "class Ford(Car):\n",
    "    def __init__(self, color, model):\n",
    "        super().__init__(color, 'Ford', model)\n",
    "\n",
    "\n",
    "class Toyota(Car):\n",
    "    def __init__(self, color, model):\n",
    "        super().__init__(color, 'Toyota', model)\n",
    "\n",
    "\n",
    "my_car = Ford('blue', 'Focus')\n",
    "\n",
    "print(my_car.make) # 'Ford'\n",
    "\n",
    "my_car.drive() # 'blue Ford Focus is driving'\n",
    "\n",
    "my_car.fill_up() # 'Filling up blue Ford Focus'\n",
    "\n",
    "my_other_car = Toyota('red', 'Camry')\n",
    "\n",
    "my_other_car.drive()\n",
    "my_other_car.fill_up()"
   ]
  },
  {
   "cell_type": "markdown",
   "metadata": {},
   "source": [
    "## Modules"
   ]
  },
  {
   "cell_type": "markdown",
   "metadata": {},
   "source": [
    "##### Importing Entire Modules"
   ]
  },
  {
   "cell_type": "code",
   "execution_count": null,
   "metadata": {},
   "outputs": [],
   "source": [
    "# import name_of_module\n",
    "import math\n",
    "\n",
    "print(math)"
   ]
  },
  {
   "cell_type": "code",
   "execution_count": null,
   "metadata": {},
   "outputs": [],
   "source": [
    "five_factorial = math.factorial(5)\n",
    "print(five_factorial)\n",
    "\n",
    "print(math.pi)"
   ]
  },
  {
   "cell_type": "markdown",
   "metadata": {},
   "source": [
    "##### Importing Methods Only"
   ]
  },
  {
   "cell_type": "code",
   "execution_count": null,
   "metadata": {},
   "outputs": [],
   "source": [
    "# from module_name import class, function, constant, etc.\n",
    "\n",
    "from statistics import mean, median\n",
    "\n",
    "# print(statistics) # NameError: name 'statistics' is not defined\n",
    "print(mean)\n",
    "print(median)"
   ]
  },
  {
   "cell_type": "code",
   "execution_count": null,
   "metadata": {},
   "outputs": [],
   "source": [
    "my_list = [3, 4, 6, 7, 2, 2, 5, 7, 8, 3, 23, 456, 8, 3]\n",
    "\n",
    "print(mean(my_list))\n",
    "print(median(my_list))"
   ]
  },
  {
   "cell_type": "code",
   "execution_count": null,
   "metadata": {},
   "outputs": [],
   "source": [
    "statistics.mean(my_list)"
   ]
  },
  {
   "cell_type": "markdown",
   "metadata": {},
   "source": [
    "##### Using the 'as' Keyword"
   ]
  },
  {
   "cell_type": "code",
   "execution_count": null,
   "metadata": {},
   "outputs": [],
   "source": [
    "# import module as new_name\n",
    "# from module import function as f\n",
    "\n",
    "from random import randint as get_random_number\n",
    "\n",
    "print(get_random_number)\n",
    "\n",
    "# print(randint) # NameError: name 'randint' is not defined\n",
    "\n",
    "print(get_random_number(1, 10))"
   ]
  },
  {
   "cell_type": "code",
   "execution_count": null,
   "metadata": {},
   "outputs": [],
   "source": [
    "import collections as col\n",
    "\n",
    "print(col)\n",
    "\n",
    "print(col.Counter)\n",
    "\n",
    "num_count = col.Counter([1, 1, 1, 1, 2, 2, 2, 3, 1, 1, 1, 2, 2, 2, 2, 3, 3, 4, 5, 3, 2, 1, 1, 2, 2, 3, 2])\n",
    "\n",
    "print(num_count)"
   ]
  },
  {
   "cell_type": "code",
   "execution_count": null,
   "metadata": {},
   "outputs": [],
   "source": [
    "# import numpy as np\n",
    "# import pandas as pd\n",
    "# import matplotlib.pyplot as plt\n",
    "\n",
    "\n",
    "# np.ndarray((4,4))"
   ]
  },
  {
   "cell_type": "markdown",
   "metadata": {},
   "source": [
    "### Creating Own Module"
   ]
  },
  {
   "cell_type": "code",
   "execution_count": 1,
   "metadata": {},
   "outputs": [
    {
     "name": "stdout",
     "output_type": "stream",
     "text": [
      "Hello this is the test module!\n"
     ]
    }
   ],
   "source": [
    "# Using VS Code\n",
    "import test_module"
   ]
  },
  {
   "cell_type": "code",
   "execution_count": 2,
   "metadata": {},
   "outputs": [
    {
     "name": "stdout",
     "output_type": "stream",
     "text": [
      "<module 'test_module' from 'C:\\\\Users\\\\bstan\\\\Documents\\\\codingtemple-kekambas-106\\\\week3\\\\day2\\\\test_module.py'>\n"
     ]
    }
   ],
   "source": [
    "print(test_module)"
   ]
  },
  {
   "cell_type": "code",
   "execution_count": 3,
   "metadata": {},
   "outputs": [
    {
     "name": "stdout",
     "output_type": "stream",
     "text": [
      "Hello Brian, how are you today? I hope you are doing well!!\n"
     ]
    }
   ],
   "source": [
    "test_module.greet('brIAn')"
   ]
  },
  {
   "cell_type": "code",
   "execution_count": 4,
   "metadata": {},
   "outputs": [
    {
     "name": "stdout",
     "output_type": "stream",
     "text": [
      "Goodbye Lionel. It was a pleasure spending time with you\n"
     ]
    }
   ],
   "source": [
    "test_module.leave('lionel')"
   ]
  },
  {
   "cell_type": "code",
   "execution_count": 5,
   "metadata": {},
   "outputs": [
    {
     "name": "stdout",
     "output_type": "stream",
     "text": [
      "The __init__.py is being run\n"
     ]
    }
   ],
   "source": [
    "# Folder Modules\n",
    "import folder_module"
   ]
  },
  {
   "cell_type": "code",
   "execution_count": 6,
   "metadata": {},
   "outputs": [
    {
     "data": {
      "text/plain": [
       "10"
      ]
     },
     "execution_count": 6,
     "metadata": {},
     "output_type": "execute_result"
    }
   ],
   "source": [
    "folder_module.add_nums(4, 6)"
   ]
  },
  {
   "cell_type": "code",
   "execution_count": 7,
   "metadata": {},
   "outputs": [
    {
     "name": "stdout",
     "output_type": "stream",
     "text": [
      "<module 'folder_module' from 'C:\\\\Users\\\\bstan\\\\Documents\\\\codingtemple-kekambas-106\\\\week3\\\\day2\\\\folder_module\\\\__init__.py'>\n"
     ]
    }
   ],
   "source": [
    "print(folder_module)"
   ]
  }
 ],
 "metadata": {
  "kernelspec": {
   "display_name": "Python 3",
   "language": "python",
   "name": "python3"
  },
  "language_info": {
   "codemirror_mode": {
    "name": "ipython",
    "version": 3
   },
   "file_extension": ".py",
   "mimetype": "text/x-python",
   "name": "python",
   "nbconvert_exporter": "python",
   "pygments_lexer": "ipython3",
   "version": "3.8.5"
  }
 },
 "nbformat": 4,
 "nbformat_minor": 2
}
